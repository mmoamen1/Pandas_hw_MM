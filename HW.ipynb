{
 "cells": [
  {
   "cell_type": "markdown",
   "metadata": {},
   "source": [
    "### Note\n",
    "* Instructions have been included for each segment. You do not have to follow them exactly, but they are included to help you think through the steps."
   ]
  },
  {
   "cell_type": "code",
   "execution_count": 132,
   "metadata": {},
   "outputs": [],
   "source": [
    "# Dependencies and Setup\n",
    "import pandas as pd\n",
    "\n",
    "# File to Load (Remember to Change These)\n",
    "file_to_load = \"Resources/purchase_data.csv\"\n",
    "\n",
    "# Read Purchasing File and store into Pandas data frame\n",
    "purchase_data = pd.read_csv(file_to_load)\n",
    "purchase_data.head()\n",
    "data_count=  purchase_data.nunique()[\"SN\"]\n"
   ]
  },
  {
   "cell_type": "markdown",
   "metadata": {},
   "source": [
    "## Player Count"
   ]
  },
  {
   "cell_type": "markdown",
   "metadata": {},
   "source": [
    "* Display the total number of players\n"
   ]
  },
  {
   "cell_type": "code",
   "execution_count": 133,
   "metadata": {},
   "outputs": [
    {
     "data": {
      "text/plain": [
       "576"
      ]
     },
     "execution_count": 133,
     "metadata": {},
     "output_type": "execute_result"
    }
   ],
   "source": [
    "players = len(purchase_data[\"SN\"].unique())\n",
    "players"
   ]
  },
  {
   "cell_type": "markdown",
   "metadata": {},
   "source": [
    "## Purchasing Analysis (Total)"
   ]
  },
  {
   "cell_type": "markdown",
   "metadata": {},
   "source": [
    "* Run basic calculations to obtain number of unique items, average price, etc.\n",
    "\n",
    "\n",
    "* Create a summary data frame to hold the results\n",
    "\n",
    "\n",
    "* Optional: give the displayed data cleaner formatting\n",
    "\n",
    "\n",
    "* Display the summary data frame\n"
   ]
  },
  {
   "cell_type": "code",
   "execution_count": 183,
   "metadata": {
    "scrolled": true
   },
   "outputs": [
    {
     "data": {
      "text/html": [
       "<div>\n",
       "<style scoped>\n",
       "    .dataframe tbody tr th:only-of-type {\n",
       "        vertical-align: middle;\n",
       "    }\n",
       "\n",
       "    .dataframe tbody tr th {\n",
       "        vertical-align: top;\n",
       "    }\n",
       "\n",
       "    .dataframe thead th {\n",
       "        text-align: right;\n",
       "    }\n",
       "</style>\n",
       "<table border=\"1\" class=\"dataframe\">\n",
       "  <thead>\n",
       "    <tr style=\"text-align: right;\">\n",
       "      <th></th>\n",
       "      <th>Number of Unique Items</th>\n",
       "      <th>Average Price</th>\n",
       "      <th>Number of Purchases</th>\n",
       "      <th>Total Revenue</th>\n",
       "    </tr>\n",
       "  </thead>\n",
       "  <tbody>\n",
       "    <tr>\n",
       "      <td>0</td>\n",
       "      <td>183</td>\n",
       "      <td>$3.05</td>\n",
       "      <td>780</td>\n",
       "      <td>$2379.77</td>\n",
       "    </tr>\n",
       "  </tbody>\n",
       "</table>\n",
       "</div>"
      ],
      "text/plain": [
       "   Number of Unique Items Average Price  Number of Purchases Total Revenue\n",
       "0                     183         $3.05                  780      $2379.77"
      ]
     },
     "execution_count": 183,
     "metadata": {},
     "output_type": "execute_result"
    }
   ],
   "source": [
    "unique_items = len(purchase_data[\"Item ID\"].unique())\n",
    "average_price =(purchase_data[\"Price\"].mean())\n",
    "number_pur = len(purchase_data)\n",
    "total_rev = purchase_data[\"Price\"].sum()\n",
    "\n",
    "summary_df = pd.DataFrame( [{\"Number of Unique Items\": unique_items, \"Average Price\": average_price, \"Number of Purchases\": number_pur, \"Total Revenue\": total_rev}\n",
    "               ])\n",
    "summary_df[\"Average Price\"] = summary_df[\"Average Price\"].map(\"${:.2f}\".format)\n",
    "summary_df[\"Total Revenue\"] = summary_df[\"Total Revenue\"].map(\"${:.2f}\".format)\n",
    "summary_df"
   ]
  },
  {
   "cell_type": "markdown",
   "metadata": {},
   "source": [
    "## Gender Demographics"
   ]
  },
  {
   "cell_type": "markdown",
   "metadata": {},
   "source": [
    "* Percentage and Count of Male Players\n",
    "\n",
    "\n",
    "* Percentage and Count of Female Players\n",
    "\n",
    "\n",
    "* Percentage and Count of Other / Non-Disclosed\n",
    "\n",
    "\n"
   ]
  },
  {
   "cell_type": "code",
   "execution_count": 185,
   "metadata": {},
   "outputs": [
    {
     "data": {
      "text/html": [
       "<div>\n",
       "<style scoped>\n",
       "    .dataframe tbody tr th:only-of-type {\n",
       "        vertical-align: middle;\n",
       "    }\n",
       "\n",
       "    .dataframe tbody tr th {\n",
       "        vertical-align: top;\n",
       "    }\n",
       "\n",
       "    .dataframe thead th {\n",
       "        text-align: right;\n",
       "    }\n",
       "</style>\n",
       "<table border=\"1\" class=\"dataframe\">\n",
       "  <thead>\n",
       "    <tr style=\"text-align: right;\">\n",
       "      <th></th>\n",
       "      <th>TotalCount</th>\n",
       "      <th>Percentage</th>\n",
       "    </tr>\n",
       "    <tr>\n",
       "      <th>Gender</th>\n",
       "      <th></th>\n",
       "      <th></th>\n",
       "    </tr>\n",
       "  </thead>\n",
       "  <tbody>\n",
       "    <tr>\n",
       "      <td>Female</td>\n",
       "      <td>81</td>\n",
       "      <td>14.06%</td>\n",
       "    </tr>\n",
       "    <tr>\n",
       "      <td>Male</td>\n",
       "      <td>484</td>\n",
       "      <td>84.03%</td>\n",
       "    </tr>\n",
       "    <tr>\n",
       "      <td>Other / Non-Disclosed</td>\n",
       "      <td>11</td>\n",
       "      <td>1.91%</td>\n",
       "    </tr>\n",
       "  </tbody>\n",
       "</table>\n",
       "</div>"
      ],
      "text/plain": [
       "                       TotalCount Percentage\n",
       "Gender                                      \n",
       "Female                         81     14.06%\n",
       "Male                          484     84.03%\n",
       "Other / Non-Disclosed          11      1.91%"
      ]
     },
     "execution_count": 185,
     "metadata": {},
     "output_type": "execute_result"
    }
   ],
   "source": [
    "gender_count = purchase_data.groupby(\"Gender\").nunique()[\"SN\"]\n",
    "gender_total = gender_count.sum()\n",
    "gender_percentage = (gender_count/gender_total) * 100\n",
    "gendercount_summary = pd.DataFrame({\"TotalCount\": gender_count,\n",
    "                                    \"Percentage\": gender_percentage\n",
    "                              })\n",
    "\n",
    "gendercount_summary[\"Percentage\"] = gendercount_summary[\"Percentage\"].map(\"{:.2f}%\".format)\n",
    "gendercount_summary\n"
   ]
  },
  {
   "cell_type": "markdown",
   "metadata": {},
   "source": [
    "\n",
    "## Purchasing Analysis (Gender)"
   ]
  },
  {
   "cell_type": "markdown",
   "metadata": {},
   "source": [
    "* Run basic calculations to obtain purchase count, avg. purchase price, avg. purchase total per person etc. by gender\n",
    "\n",
    "\n",
    "\n",
    "\n",
    "* Create a summary data frame to hold the results\n",
    "\n",
    "\n",
    "* Optional: give the displayed data cleaner formatting\n",
    "\n",
    "\n",
    "* Display the summary data frame"
   ]
  },
  {
   "cell_type": "code",
   "execution_count": 188,
   "metadata": {},
   "outputs": [
    {
     "data": {
      "text/html": [
       "<div>\n",
       "<style scoped>\n",
       "    .dataframe tbody tr th:only-of-type {\n",
       "        vertical-align: middle;\n",
       "    }\n",
       "\n",
       "    .dataframe tbody tr th {\n",
       "        vertical-align: top;\n",
       "    }\n",
       "\n",
       "    .dataframe thead th {\n",
       "        text-align: right;\n",
       "    }\n",
       "</style>\n",
       "<table border=\"1\" class=\"dataframe\">\n",
       "  <thead>\n",
       "    <tr style=\"text-align: right;\">\n",
       "      <th></th>\n",
       "      <th>Purchase Count</th>\n",
       "      <th>Average Purchase Price</th>\n",
       "      <th>Total Purchase Value</th>\n",
       "    </tr>\n",
       "    <tr>\n",
       "      <th>Gender</th>\n",
       "      <th></th>\n",
       "      <th></th>\n",
       "      <th></th>\n",
       "    </tr>\n",
       "  </thead>\n",
       "  <tbody>\n",
       "    <tr>\n",
       "      <td>Female</td>\n",
       "      <td>113</td>\n",
       "      <td>$3.20</td>\n",
       "      <td>$361.94</td>\n",
       "    </tr>\n",
       "    <tr>\n",
       "      <td>Male</td>\n",
       "      <td>652</td>\n",
       "      <td>$3.02</td>\n",
       "      <td>$1967.64</td>\n",
       "    </tr>\n",
       "    <tr>\n",
       "      <td>Other / Non-Disclosed</td>\n",
       "      <td>15</td>\n",
       "      <td>$3.35</td>\n",
       "      <td>$50.19</td>\n",
       "    </tr>\n",
       "  </tbody>\n",
       "</table>\n",
       "</div>"
      ],
      "text/plain": [
       "                       Purchase Count Average Purchase Price  \\\n",
       "Gender                                                         \n",
       "Female                            113                  $3.20   \n",
       "Male                              652                  $3.02   \n",
       "Other / Non-Disclosed              15                  $3.35   \n",
       "\n",
       "                      Total Purchase Value  \n",
       "Gender                                      \n",
       "Female                             $361.94  \n",
       "Male                              $1967.64  \n",
       "Other / Non-Disclosed               $50.19  "
      ]
     },
     "execution_count": 188,
     "metadata": {},
     "output_type": "execute_result"
    }
   ],
   "source": [
    "gender_analysis = purchase_data.groupby(\"Gender\")\n",
    "gender_total = gender_analysis[\"SN\"].count()\n",
    "mean_gen = gender_analysis[\"Price\"].mean()\n",
    "tot_purchase = gender_analysis[\"Price\"].sum()\n",
    "gender_summary = pd.DataFrame({\"Purchase Count\": gender_total,\n",
    "                                    \"Average Purchase Price\": mean_gen,\n",
    "                              \"Total Purchase Value\": tot_purchase})\n",
    "gender_summary[\"Average Purchase Price\"] = gender_summary[\"Average Purchase Price\"].map(\"${:.2f}\".format)\n",
    "gender_summary[\"Total Purchase Value\"] = gender_summary[\"Total Purchase Value\"].map(\"${:.2f}\".format)\n",
    "gender_summary"
   ]
  },
  {
   "cell_type": "markdown",
   "metadata": {},
   "source": [
    "## Age Demographics"
   ]
  },
  {
   "cell_type": "markdown",
   "metadata": {},
   "source": [
    "* Establish bins for ages\n",
    "\n",
    "\n",
    "* Categorize the existing players using the age bins. Hint: use pd.cut()\n",
    "\n",
    "\n",
    "* Calculate the numbers and percentages by age group\n",
    "\n",
    "\n",
    "* Create a summary data frame to hold the results\n",
    "\n",
    "\n",
    "* Optional: round the percentage column to two decimal points\n",
    "\n",
    "\n",
    "* Display Age Demographics Table\n"
   ]
  },
  {
   "cell_type": "code",
   "execution_count": 189,
   "metadata": {},
   "outputs": [
    {
     "data": {
      "text/html": [
       "<div>\n",
       "<style scoped>\n",
       "    .dataframe tbody tr th:only-of-type {\n",
       "        vertical-align: middle;\n",
       "    }\n",
       "\n",
       "    .dataframe tbody tr th {\n",
       "        vertical-align: top;\n",
       "    }\n",
       "\n",
       "    .dataframe thead th {\n",
       "        text-align: right;\n",
       "    }\n",
       "</style>\n",
       "<table border=\"1\" class=\"dataframe\">\n",
       "  <thead>\n",
       "    <tr style=\"text-align: right;\">\n",
       "      <th></th>\n",
       "      <th>TotalCount</th>\n",
       "      <th>Percentage</th>\n",
       "    </tr>\n",
       "    <tr>\n",
       "      <th>Age Group</th>\n",
       "      <th></th>\n",
       "      <th></th>\n",
       "    </tr>\n",
       "  </thead>\n",
       "  <tbody>\n",
       "    <tr>\n",
       "      <td>&lt;10</td>\n",
       "      <td>17</td>\n",
       "      <td>2.18%</td>\n",
       "    </tr>\n",
       "    <tr>\n",
       "      <td>0-14</td>\n",
       "      <td>22</td>\n",
       "      <td>2.82%</td>\n",
       "    </tr>\n",
       "    <tr>\n",
       "      <td>15-19</td>\n",
       "      <td>107</td>\n",
       "      <td>13.72%</td>\n",
       "    </tr>\n",
       "    <tr>\n",
       "      <td>20-24</td>\n",
       "      <td>258</td>\n",
       "      <td>33.08%</td>\n",
       "    </tr>\n",
       "    <tr>\n",
       "      <td>25-29</td>\n",
       "      <td>77</td>\n",
       "      <td>9.87%</td>\n",
       "    </tr>\n",
       "    <tr>\n",
       "      <td>30-34</td>\n",
       "      <td>52</td>\n",
       "      <td>6.67%</td>\n",
       "    </tr>\n",
       "    <tr>\n",
       "      <td>35-39</td>\n",
       "      <td>31</td>\n",
       "      <td>3.97%</td>\n",
       "    </tr>\n",
       "    <tr>\n",
       "      <td>40+</td>\n",
       "      <td>12</td>\n",
       "      <td>1.54%</td>\n",
       "    </tr>\n",
       "  </tbody>\n",
       "</table>\n",
       "</div>"
      ],
      "text/plain": [
       "           TotalCount Percentage\n",
       "Age Group                       \n",
       "<10                17      2.18%\n",
       "0-14               22      2.82%\n",
       "15-19             107     13.72%\n",
       "20-24             258     33.08%\n",
       "25-29              77      9.87%\n",
       "30-34              52      6.67%\n",
       "35-39              31      3.97%\n",
       "40+                12      1.54%"
      ]
     },
     "execution_count": 189,
     "metadata": {},
     "output_type": "execute_result"
    }
   ],
   "source": [
    "age_group = [\"<10\",\"0-14\",\"15-19\", \"20-24\", \"25-29\", \"30-34\",\"35-39\",\"40+\"]\n",
    "bins = [0, 9, 14, 19 ,24, 29, 34, 39, 60]\n",
    "\n",
    "purchase_data[\"Age Group\"] = pd.cut(purchase_data[\"Age\"], bins, labels=age_group)\n",
    "agp = purchase_data.groupby(\"Age Group\")\n",
    "age_count=  purchase_data.groupby(\"Age Group\").nunique()[\"SN\"]\n",
    "age_per =(age_count/ purchase_data[\"SN\"].count()) * 100\n",
    "age_summary = pd.DataFrame({\"TotalCount\": age_count,\n",
    "                                    \"Percentage\": age_per\n",
    "                              })\n",
    "age_summary[\"Percentage\"] = age_summary[\"Percentage\"].map(\"{:.2f}%\".format)\n",
    "age_summary"
   ]
  },
  {
   "cell_type": "markdown",
   "metadata": {},
   "source": [
    "## Purchasing Analysis (Age)"
   ]
  },
  {
   "cell_type": "markdown",
   "metadata": {},
   "source": [
    "* Bin the purchase_data data frame by age\n",
    "\n",
    "\n",
    "* Run basic calculations to obtain purchase count, avg. purchase price, avg. purchase total per person etc. in the table below\n",
    "\n",
    "\n",
    "* Create a summary data frame to hold the results\n",
    "\n",
    "\n",
    "* Optional: give the displayed data cleaner formatting\n",
    "\n",
    "\n",
    "* Display the summary data frame"
   ]
  },
  {
   "cell_type": "code",
   "execution_count": 190,
   "metadata": {},
   "outputs": [
    {
     "data": {
      "text/html": [
       "<div>\n",
       "<style scoped>\n",
       "    .dataframe tbody tr th:only-of-type {\n",
       "        vertical-align: middle;\n",
       "    }\n",
       "\n",
       "    .dataframe tbody tr th {\n",
       "        vertical-align: top;\n",
       "    }\n",
       "\n",
       "    .dataframe thead th {\n",
       "        text-align: right;\n",
       "    }\n",
       "</style>\n",
       "<table border=\"1\" class=\"dataframe\">\n",
       "  <thead>\n",
       "    <tr style=\"text-align: right;\">\n",
       "      <th></th>\n",
       "      <th>Purchase Count</th>\n",
       "      <th>Average Purchase Price</th>\n",
       "      <th>Total Purchase Value</th>\n",
       "    </tr>\n",
       "    <tr>\n",
       "      <th>Age Group</th>\n",
       "      <th></th>\n",
       "      <th></th>\n",
       "      <th></th>\n",
       "    </tr>\n",
       "  </thead>\n",
       "  <tbody>\n",
       "    <tr>\n",
       "      <td>&lt;10</td>\n",
       "      <td>23</td>\n",
       "      <td>$3.35</td>\n",
       "      <td>$77.13</td>\n",
       "    </tr>\n",
       "    <tr>\n",
       "      <td>0-14</td>\n",
       "      <td>28</td>\n",
       "      <td>$2.96</td>\n",
       "      <td>$82.78</td>\n",
       "    </tr>\n",
       "    <tr>\n",
       "      <td>15-19</td>\n",
       "      <td>136</td>\n",
       "      <td>$3.04</td>\n",
       "      <td>$412.89</td>\n",
       "    </tr>\n",
       "    <tr>\n",
       "      <td>20-24</td>\n",
       "      <td>365</td>\n",
       "      <td>$3.05</td>\n",
       "      <td>$1114.06</td>\n",
       "    </tr>\n",
       "    <tr>\n",
       "      <td>25-29</td>\n",
       "      <td>101</td>\n",
       "      <td>$2.90</td>\n",
       "      <td>$293.00</td>\n",
       "    </tr>\n",
       "    <tr>\n",
       "      <td>30-34</td>\n",
       "      <td>73</td>\n",
       "      <td>$2.93</td>\n",
       "      <td>$214.00</td>\n",
       "    </tr>\n",
       "    <tr>\n",
       "      <td>35-39</td>\n",
       "      <td>41</td>\n",
       "      <td>$3.60</td>\n",
       "      <td>$147.67</td>\n",
       "    </tr>\n",
       "    <tr>\n",
       "      <td>40+</td>\n",
       "      <td>13</td>\n",
       "      <td>$2.94</td>\n",
       "      <td>$38.24</td>\n",
       "    </tr>\n",
       "  </tbody>\n",
       "</table>\n",
       "</div>"
      ],
      "text/plain": [
       "           Purchase Count Average Purchase Price Total Purchase Value\n",
       "Age Group                                                            \n",
       "<10                    23                  $3.35               $77.13\n",
       "0-14                   28                  $2.96               $82.78\n",
       "15-19                 136                  $3.04              $412.89\n",
       "20-24                 365                  $3.05             $1114.06\n",
       "25-29                 101                  $2.90              $293.00\n",
       "30-34                  73                  $2.93              $214.00\n",
       "35-39                  41                  $3.60              $147.67\n",
       "40+                    13                  $2.94               $38.24"
      ]
     },
     "execution_count": 190,
     "metadata": {},
     "output_type": "execute_result"
    }
   ],
   "source": [
    "purchase_cnt = agp[\"SN\"].count()\n",
    "app = agp[\"Price\"].mean()\n",
    "tpp = agp[\"Price\"].sum()\n",
    "age_analysis = pd.DataFrame({\"Purchase Count\": purchase_cnt,\n",
    "                                    \"Average Purchase Price\": app,\n",
    "                              \"Total Purchase Value\": tpp})\n",
    "age_analysis[\"Average Purchase Price\"] = age_analysis[\"Average Purchase Price\"].map(\"${:.2f}\".format)\n",
    "age_analysis[\"Total Purchase Value\"] = age_analysis[\"Total Purchase Value\"].map(\"${:.2f}\".format)\n",
    "age_analysis"
   ]
  },
  {
   "cell_type": "markdown",
   "metadata": {},
   "source": [
    "## Top Spenders"
   ]
  },
  {
   "cell_type": "markdown",
   "metadata": {},
   "source": [
    "* Run basic calculations to obtain the results in the table below\n",
    "\n",
    "\n",
    "* Create a summary data frame to hold the results\n",
    "\n",
    "\n",
    "* Sort the total purchase value column in descending order\n",
    "\n",
    "\n",
    "* Optional: give the displayed data cleaner formatting\n",
    "\n",
    "\n",
    "* Display a preview of the summary data frame\n",
    "\n"
   ]
  },
  {
   "cell_type": "code",
   "execution_count": 191,
   "metadata": {},
   "outputs": [
    {
     "data": {
      "text/html": [
       "<div>\n",
       "<style scoped>\n",
       "    .dataframe tbody tr th:only-of-type {\n",
       "        vertical-align: middle;\n",
       "    }\n",
       "\n",
       "    .dataframe tbody tr th {\n",
       "        vertical-align: top;\n",
       "    }\n",
       "\n",
       "    .dataframe thead th {\n",
       "        text-align: right;\n",
       "    }\n",
       "</style>\n",
       "<table border=\"1\" class=\"dataframe\">\n",
       "  <thead>\n",
       "    <tr style=\"text-align: right;\">\n",
       "      <th></th>\n",
       "      <th>Purchase Count</th>\n",
       "      <th>Average Purchase Price</th>\n",
       "      <th>Total Purchase Value</th>\n",
       "    </tr>\n",
       "    <tr>\n",
       "      <th>SN</th>\n",
       "      <th></th>\n",
       "      <th></th>\n",
       "      <th></th>\n",
       "    </tr>\n",
       "  </thead>\n",
       "  <tbody>\n",
       "    <tr>\n",
       "      <td>Lisosia93</td>\n",
       "      <td>5</td>\n",
       "      <td>$3.79</td>\n",
       "      <td>$18.96</td>\n",
       "    </tr>\n",
       "    <tr>\n",
       "      <td>Iral74</td>\n",
       "      <td>4</td>\n",
       "      <td>$3.40</td>\n",
       "      <td>$13.62</td>\n",
       "    </tr>\n",
       "    <tr>\n",
       "      <td>Idastidru52</td>\n",
       "      <td>4</td>\n",
       "      <td>$3.86</td>\n",
       "      <td>$15.45</td>\n",
       "    </tr>\n",
       "    <tr>\n",
       "      <td>Asur53</td>\n",
       "      <td>3</td>\n",
       "      <td>$2.48</td>\n",
       "      <td>$7.44</td>\n",
       "    </tr>\n",
       "    <tr>\n",
       "      <td>Inguron55</td>\n",
       "      <td>3</td>\n",
       "      <td>$3.70</td>\n",
       "      <td>$11.11</td>\n",
       "    </tr>\n",
       "  </tbody>\n",
       "</table>\n",
       "</div>"
      ],
      "text/plain": [
       "             Purchase Count Average Purchase Price Total Purchase Value\n",
       "SN                                                                     \n",
       "Lisosia93                 5                  $3.79               $18.96\n",
       "Iral74                    4                  $3.40               $13.62\n",
       "Idastidru52               4                  $3.86               $15.45\n",
       "Asur53                    3                  $2.48                $7.44\n",
       "Inguron55                 3                  $3.70               $11.11"
      ]
     },
     "execution_count": 191,
     "metadata": {},
     "output_type": "execute_result"
    }
   ],
   "source": [
    "top_spenders = purchase_data.groupby(\"SN\")\n",
    "purchase_count_ts = top_spenders[\"SN\"].count()\n",
    "mean_pur = top_spenders[\"Price\"].mean()\n",
    "tot_pur_ts = top_spenders[\"Price\"].sum()\n",
    "ts_analysis =  pd.DataFrame({\"Purchase Count\": purchase_count_ts,\n",
    "                                    \"Average Purchase Price\": mean_pur,\n",
    "                              \"Total Purchase Value\": tot_pur_ts})\n",
    "ts_analysis[\"Average Purchase Price\"] = ts_analysis[\"Average Purchase Price\"].map(\"${:.2f}\".format)\n",
    "ts_analysis[\"Total Purchase Value\"] = ts_analysis[\"Total Purchase Value\"].map(\"${:.2f}\".format)\n",
    "ascending_ts = ts_analysis.sort_values(\"Purchase Count\", ascending=False)\n",
    "ascending_ts.head()"
   ]
  },
  {
   "cell_type": "markdown",
   "metadata": {},
   "source": [
    "## Most Popular Items"
   ]
  },
  {
   "cell_type": "markdown",
   "metadata": {},
   "source": [
    "* Retrieve the Item ID, Item Name, and Item Price columns\n",
    "\n",
    "\n",
    "* Group by Item ID and Item Name. Perform calculations to obtain purchase count, item price, and total purchase value\n",
    "\n",
    "\n",
    "* Create a summary data frame to hold the results\n",
    "\n",
    "\n",
    "* Sort the purchase count column in descending order\n",
    "\n",
    "\n",
    "* Optional: give the displayed data cleaner formatting\n",
    "\n",
    "\n",
    "* Display a preview of the summary data frame\n",
    "\n"
   ]
  },
  {
   "cell_type": "code",
   "execution_count": 193,
   "metadata": {},
   "outputs": [
    {
     "data": {
      "text/html": [
       "<div>\n",
       "<style scoped>\n",
       "    .dataframe tbody tr th:only-of-type {\n",
       "        vertical-align: middle;\n",
       "    }\n",
       "\n",
       "    .dataframe tbody tr th {\n",
       "        vertical-align: top;\n",
       "    }\n",
       "\n",
       "    .dataframe thead th {\n",
       "        text-align: right;\n",
       "    }\n",
       "</style>\n",
       "<table border=\"1\" class=\"dataframe\">\n",
       "  <thead>\n",
       "    <tr style=\"text-align: right;\">\n",
       "      <th></th>\n",
       "      <th></th>\n",
       "      <th>Purchase Count</th>\n",
       "      <th>Average Purchase Price</th>\n",
       "      <th>Total Purchase Value</th>\n",
       "    </tr>\n",
       "    <tr>\n",
       "      <th>Item ID</th>\n",
       "      <th>Item Name</th>\n",
       "      <th></th>\n",
       "      <th></th>\n",
       "      <th></th>\n",
       "    </tr>\n",
       "  </thead>\n",
       "  <tbody>\n",
       "    <tr>\n",
       "      <td>178</td>\n",
       "      <td>Oathbreaker, Last Hope of the Breaking Storm</td>\n",
       "      <td>12</td>\n",
       "      <td>$4.23</td>\n",
       "      <td>$50.76</td>\n",
       "    </tr>\n",
       "    <tr>\n",
       "      <td>145</td>\n",
       "      <td>Fiery Glass Crusader</td>\n",
       "      <td>9</td>\n",
       "      <td>$4.58</td>\n",
       "      <td>$41.22</td>\n",
       "    </tr>\n",
       "    <tr>\n",
       "      <td>108</td>\n",
       "      <td>Extraction, Quickblade Of Trembling Hands</td>\n",
       "      <td>9</td>\n",
       "      <td>$3.53</td>\n",
       "      <td>$31.77</td>\n",
       "    </tr>\n",
       "    <tr>\n",
       "      <td>82</td>\n",
       "      <td>Nirvana</td>\n",
       "      <td>9</td>\n",
       "      <td>$4.90</td>\n",
       "      <td>$44.10</td>\n",
       "    </tr>\n",
       "    <tr>\n",
       "      <td>19</td>\n",
       "      <td>Pursuit, Cudgel of Necromancy</td>\n",
       "      <td>8</td>\n",
       "      <td>$1.02</td>\n",
       "      <td>$8.16</td>\n",
       "    </tr>\n",
       "  </tbody>\n",
       "</table>\n",
       "</div>"
      ],
      "text/plain": [
       "                                                      Purchase Count  \\\n",
       "Item ID Item Name                                                      \n",
       "178     Oathbreaker, Last Hope of the Breaking Storm              12   \n",
       "145     Fiery Glass Crusader                                       9   \n",
       "108     Extraction, Quickblade Of Trembling Hands                  9   \n",
       "82      Nirvana                                                    9   \n",
       "19      Pursuit, Cudgel of Necromancy                              8   \n",
       "\n",
       "                                                     Average Purchase Price  \\\n",
       "Item ID Item Name                                                             \n",
       "178     Oathbreaker, Last Hope of the Breaking Storm                  $4.23   \n",
       "145     Fiery Glass Crusader                                          $4.58   \n",
       "108     Extraction, Quickblade Of Trembling Hands                     $3.53   \n",
       "82      Nirvana                                                       $4.90   \n",
       "19      Pursuit, Cudgel of Necromancy                                 $1.02   \n",
       "\n",
       "                                                     Total Purchase Value  \n",
       "Item ID Item Name                                                          \n",
       "178     Oathbreaker, Last Hope of the Breaking Storm               $50.76  \n",
       "145     Fiery Glass Crusader                                       $41.22  \n",
       "108     Extraction, Quickblade Of Trembling Hands                  $31.77  \n",
       "82      Nirvana                                                    $44.10  \n",
       "19      Pursuit, Cudgel of Necromancy                               $8.16  "
      ]
     },
     "execution_count": 193,
     "metadata": {},
     "output_type": "execute_result"
    }
   ],
   "source": [
    "most_pop = purchase_data.groupby([\"Item ID\", \"Item Name\"])\n",
    "pur_cnt_mp = most_pop[\"Price\"].count()\n",
    "item_price = most_pop[\"Price\"].mean()\n",
    "tot_prc_mp = most_pop[\"Price\"].sum()\n",
    "mp_analysis = pd.DataFrame({\"Purchase Count\": pur_cnt_mp,\n",
    "                                    \"Average Purchase Price\": item_price,\n",
    "                              \"Total Purchase Value\": tot_prc_mp})\n",
    "mp_analysis[\"Average Purchase Price\"] = mp_analysis[\"Average Purchase Price\"].map(\"${:.2f}\".format)\n",
    "mp_analysis[\"Total Purchase Value\"] = mp_analysis[\"Total Purchase Value\"].map(\"${:.2f}\".format)\n",
    "mp_ascending = mp_analysis.sort_values(\"Purchase Count\", ascending=False)\n",
    "mp_ascending.head()"
   ]
  },
  {
   "cell_type": "markdown",
   "metadata": {},
   "source": [
    "## Most Profitable Items"
   ]
  },
  {
   "cell_type": "markdown",
   "metadata": {},
   "source": [
    "* Sort the above table by total purchase value in descending order\n",
    "\n",
    "\n",
    "* Optional: give the displayed data cleaner formatting\n",
    "\n",
    "\n",
    "* Display a preview of the data frame\n",
    "\n"
   ]
  },
  {
   "cell_type": "code",
   "execution_count": 194,
   "metadata": {
    "scrolled": true
   },
   "outputs": [
    {
     "data": {
      "text/html": [
       "<div>\n",
       "<style scoped>\n",
       "    .dataframe tbody tr th:only-of-type {\n",
       "        vertical-align: middle;\n",
       "    }\n",
       "\n",
       "    .dataframe tbody tr th {\n",
       "        vertical-align: top;\n",
       "    }\n",
       "\n",
       "    .dataframe thead th {\n",
       "        text-align: right;\n",
       "    }\n",
       "</style>\n",
       "<table border=\"1\" class=\"dataframe\">\n",
       "  <thead>\n",
       "    <tr style=\"text-align: right;\">\n",
       "      <th></th>\n",
       "      <th></th>\n",
       "      <th>Purchase Count</th>\n",
       "      <th>Average Purchase Price</th>\n",
       "      <th>Total Purchase Value</th>\n",
       "    </tr>\n",
       "    <tr>\n",
       "      <th>Item ID</th>\n",
       "      <th>Item Name</th>\n",
       "      <th></th>\n",
       "      <th></th>\n",
       "      <th></th>\n",
       "    </tr>\n",
       "  </thead>\n",
       "  <tbody>\n",
       "    <tr>\n",
       "      <td>51</td>\n",
       "      <td>Endbringer</td>\n",
       "      <td>1</td>\n",
       "      <td>$4.66</td>\n",
       "      <td>$4.66</td>\n",
       "    </tr>\n",
       "    <tr>\n",
       "      <td>27</td>\n",
       "      <td>Riddle, Tribute of Ended Dreams</td>\n",
       "      <td>1</td>\n",
       "      <td>$3.30</td>\n",
       "      <td>$3.30</td>\n",
       "    </tr>\n",
       "    <tr>\n",
       "      <td>104</td>\n",
       "      <td>Gladiator's Glaive</td>\n",
       "      <td>1</td>\n",
       "      <td>$1.93</td>\n",
       "      <td>$1.93</td>\n",
       "    </tr>\n",
       "    <tr>\n",
       "      <td>118</td>\n",
       "      <td>Ghost Reaver, Longsword of Magic</td>\n",
       "      <td>1</td>\n",
       "      <td>$2.17</td>\n",
       "      <td>$2.17</td>\n",
       "    </tr>\n",
       "    <tr>\n",
       "      <td>42</td>\n",
       "      <td>The Decapitator</td>\n",
       "      <td>1</td>\n",
       "      <td>$1.75</td>\n",
       "      <td>$1.75</td>\n",
       "    </tr>\n",
       "  </tbody>\n",
       "</table>\n",
       "</div>"
      ],
      "text/plain": [
       "                                          Purchase Count  \\\n",
       "Item ID Item Name                                          \n",
       "51      Endbringer                                     1   \n",
       "27      Riddle, Tribute of Ended Dreams                1   \n",
       "104     Gladiator's Glaive                             1   \n",
       "118     Ghost Reaver, Longsword of Magic               1   \n",
       "42      The Decapitator                                1   \n",
       "\n",
       "                                         Average Purchase Price  \\\n",
       "Item ID Item Name                                                 \n",
       "51      Endbringer                                        $4.66   \n",
       "27      Riddle, Tribute of Ended Dreams                   $3.30   \n",
       "104     Gladiator's Glaive                                $1.93   \n",
       "118     Ghost Reaver, Longsword of Magic                  $2.17   \n",
       "42      The Decapitator                                   $1.75   \n",
       "\n",
       "                                         Total Purchase Value  \n",
       "Item ID Item Name                                              \n",
       "51      Endbringer                                      $4.66  \n",
       "27      Riddle, Tribute of Ended Dreams                 $3.30  \n",
       "104     Gladiator's Glaive                              $1.93  \n",
       "118     Ghost Reaver, Longsword of Magic                $2.17  \n",
       "42      The Decapitator                                 $1.75  "
      ]
     },
     "execution_count": 194,
     "metadata": {},
     "output_type": "execute_result"
    }
   ],
   "source": [
    "mp_ascending = mp_analysis.sort_values(\"Purchase Count\", ascending=True)\n",
    "\n",
    "mp_ascending.head()"
   ]
  }
 ],
 "metadata": {
  "anaconda-cloud": {},
  "kernel_info": {
   "name": "python3"
  },
  "kernelspec": {
   "display_name": "Python 3",
   "language": "python",
   "name": "python3"
  },
  "language_info": {
   "codemirror_mode": {
    "name": "ipython",
    "version": 3
   },
   "file_extension": ".py",
   "mimetype": "text/x-python",
   "name": "python",
   "nbconvert_exporter": "python",
   "pygments_lexer": "ipython3",
   "version": "3.7.4"
  },
  "latex_envs": {
   "LaTeX_envs_menu_present": true,
   "autoclose": false,
   "autocomplete": true,
   "bibliofile": "biblio.bib",
   "cite_by": "apalike",
   "current_citInitial": 1,
   "eqLabelWithNumbers": true,
   "eqNumInitial": 1,
   "hotkeys": {
    "equation": "Ctrl-E",
    "itemize": "Ctrl-I"
   },
   "labels_anchors": false,
   "latex_user_defs": false,
   "report_style_numbering": false,
   "user_envs_cfg": false
  },
  "nteract": {
   "version": "0.2.0"
  }
 },
 "nbformat": 4,
 "nbformat_minor": 2
}
